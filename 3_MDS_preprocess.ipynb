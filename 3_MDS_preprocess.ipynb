{
 "cells": [
  {
   "cell_type": "code",
   "execution_count": 1,
   "id": "c110feb0",
   "metadata": {},
   "outputs": [],
   "source": [
    "import numpy as np\n",
    "import pandas as pd\n",
    "from sklearn.manifold import MDS\n",
    "import matplotlib.pyplot as plt"
   ]
  },
  {
   "cell_type": "code",
   "execution_count": 2,
   "id": "93183f31",
   "metadata": {},
   "outputs": [],
   "source": [
    "# x, y = make_moons(n_samples=10, noise=0.5, random_state=45, shuffle=True)\n",
    "# print('x',x)\n",
    "# print('y',y)\n",
    "# #print(x,y)\n",
    "\n",
    "# plt.scatter(x[:, 0], x[:, 1], c=y)\n",
    "# plt.show()"
   ]
  },
  {
   "cell_type": "code",
   "execution_count": 3,
   "id": "d9f0ac52",
   "metadata": {},
   "outputs": [],
   "source": [
    "np_data = np.load('data.npz')"
   ]
  },
  {
   "cell_type": "code",
   "execution_count": 4,
   "id": "c44feb9f",
   "metadata": {},
   "outputs": [],
   "source": [
    "distance = np_data['distance']  \n",
    "angle = np_data['angle']      #            "
   ]
  },
  {
   "cell_type": "code",
   "execution_count": null,
   "id": "a92ddd1a",
   "metadata": {},
   "outputs": [],
   "source": [
    "distance = distance.reshape(len(distance),len(distance))"
   ]
  },
  {
   "cell_type": "code",
   "execution_count": 38,
   "id": "14907573",
   "metadata": {
    "scrolled": true
   },
   "outputs": [],
   "source": [
    "mds = MDS()"
   ]
  },
  {
   "cell_type": "code",
   "execution_count": 39,
   "id": "e31c09d2",
   "metadata": {},
   "outputs": [
    {
     "name": "stderr",
     "output_type": "stream",
     "text": [
      "/mnt/data/.conda/envs/chenjin/lib/python3.6/site-packages/sklearn/manifold/_mds.py:441: UserWarning: The MDS API has changed. ``fit`` now constructs an dissimilarity matrix from data. To use a custom dissimilarity matrix, set ``dissimilarity='precomputed'``.\n",
      "  warnings.warn(\"The MDS API has changed. ``fit`` now constructs an\"\n"
     ]
    },
    {
     "data": {
      "text/plain": [
       "MDS()"
      ]
     },
     "execution_count": 39,
     "metadata": {},
     "output_type": "execute_result"
    }
   ],
   "source": [
    "mds.fit(distance[0:60,0:60])\n",
    "#%%"
   ]
  },
  {
   "cell_type": "code",
   "execution_count": 40,
   "id": "ce70f3ee",
   "metadata": {},
   "outputs": [],
   "source": [
    "a = mds.embedding_"
   ]
  },
  {
   "cell_type": "code",
   "execution_count": 41,
   "id": "95ff4c60",
   "metadata": {},
   "outputs": [
    {
     "data": {
      "text/plain": [
       "<matplotlib.collections.PathCollection at 0x7f9288790908>"
      ]
     },
     "execution_count": 41,
     "metadata": {},
     "output_type": "execute_result"
    },
    {
     "data": {
      "image/png": "[encoded data removed]",
      "text/plain": [
       "<Figure size 432x288 with 1 Axes>"
      ]
     },
     "metadata": {
      "needs_background": "light"
     },
     "output_type": "display_data"
    }
   ],
   "source": [
    "plt.scatter(a[0:,0],a[0:,1],color='red')"
   ]
  },
  {
   "cell_type": "code",
   "execution_count": 9,
   "id": "f30d58dc",
   "metadata": {},
   "outputs": [
    {
     "name": "stdout",
     "output_type": "stream",
     "text": [
      "[0 0 0 0 0 0 0 0 0 0]\n",
      "[38  0  0  0  0  0  0  0  0  0]\n",
      "[137  99   0   0   0   0   0   0   0   0]\n",
      "[ 11  27 126   0   0   0   0   0   0   0]\n",
      "[169 131  32 158   0   0   0   0   0   0]\n",
      "[ 41  80 179  52 148   0   0   0   0   0]\n",
      "[178 143  44 170  12 136   0   0   0   0]\n",
      "[  2  35 134   8 166  44 179   0   0   0]\n",
      "[  0  38 137  11 169  41 177   2   0   0]\n",
      "[136  98   0 125  32 178  45 134 137   0]\n"
     ]
    }
   ],
   "source": [
    "for i in range(10):\n",
    "    print(angle[i,0:10])"
   ]
  },
  {
   "cell_type": "code",
   "execution_count": 11,
   "id": "cd910761",
   "metadata": {},
   "outputs": [
    {
     "name": "stdout",
     "output_type": "stream",
     "text": [
      "[  0  38 137  11 169  41 178   2   0 136]\n",
      "[ 38   0  99  27 131  80 143  35  38  98]\n",
      "[137  99   0 126  32 179  44 134 137   0]\n",
      "[ 11  27 126   0 158  52 170   8  11 125]\n",
      "[169 131  32 158   0 148  12 166 169  32]\n",
      "[ 41  80 179  52 148   0 136  44  41 178]\n",
      "[178 143  44 170  12 136   0 179 177  45]\n",
      "[  2  35 134   8 166  44 179   0   2 134]\n",
      "[  0  38 137  11 169  41 177   2   0 137]\n",
      "[136  98   0 125  32 178  45 134 137   0]\n"
     ]
    }
   ],
   "source": [
    "for i in range(10):\n",
    "    print(angle[i,0:10])"
   ]
  },
  {
   "cell_type": "code",
   "execution_count": null,
   "id": "abbee783",
   "metadata": {},
   "outputs": [],
   "source": []
  }
 ],
 "metadata": {
  "kernelspec": {
   "display_name": "Python 3",
   "language": "python",
   "name": "python3"
  },
  "language_info": {
   "codemirror_mode": {
    "name": "ipython",
    "version": 3
   },
   "file_extension": ".py",
   "mimetype": "text/x-python",
   "name": "python",
   "nbconvert_exporter": "python",
   "pygments_lexer": "ipython3",
   "version": "3.6.13"
  }
 },
 "nbformat": 4,
 "nbformat_minor": 5
}
