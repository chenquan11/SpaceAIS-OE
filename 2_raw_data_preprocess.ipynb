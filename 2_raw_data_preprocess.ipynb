{
 "cells": [
  {
   "cell_type": "code",
   "execution_count": 2,
   "id": "81a2d56b",
   "metadata": {},
   "outputs": [],
   "source": [
    "import numpy as np"
   ]
  },
  {
   "cell_type": "code",
   "execution_count": 3,
   "id": "9fee91f0",
   "metadata": {},
   "outputs": [
    {
     "name": "stdout",
     "output_type": "stream",
     "text": [
      "[[170 'Class A' 205038000 ... 57.0 7.0 9.0]\n",
      " [306 'Class A' 205038000 ... 57.0 7.0 9.0]\n",
      " [489 'Class A' 205038000 ... 57.0 7.0 9.0]\n",
      " ...\n",
      " [48587 'Class B' 636012660 ... 38.0 28.0 14.0]\n",
      " [48590 'Class B' 636012660 ... 38.0 28.0 14.0]\n",
      " [47809 'Class B' 636017648 ... 37.0 5.0 27.0]] (1559147, 26)\n"
     ]
    }
   ],
   "source": [
    "sorted_data = np.load('sorted_data.npz',allow_pickle=True)\n",
    "df = sorted_data['sorted_data']\n",
    "print(df,df.shape)"
   ]
  },
  {
   "cell_type": "code",
   "execution_count": 4,
   "id": "179c6e6d",
   "metadata": {},
   "outputs": [],
   "source": [
    "\n",
    "second_column = df[:, 2]"
   ]
  },
  {
   "cell_type": "code",
   "execution_count": 5,
   "id": "6dcbc298",
   "metadata": {},
   "outputs": [
    {
     "name": "stdout",
     "output_type": "stream",
     "text": [
      "[205038000 205038000 205038000 ... 636012660 636012660 636017648]\n"
     ]
    }
   ],
   "source": [
    "print(second_column)"
   ]
  },
  {
   "cell_type": "code",
   "execution_count": 6,
   "id": "dea148eb",
   "metadata": {
    "scrolled": true
   },
   "outputs": [
    {
     "name": "stdout",
     "output_type": "stream",
     "text": [
      "[205038000 209114000 209183000 209210000 209213000 209276000 209356000\n",
      " 209449000 209488000 209515000 209536000 209672000 209696000 209702000\n",
      " 209717000 209911000 210035000 210052000 210056000 210178000 210231000\n",
      " 210331000 210353000 210359000 210399000 211135000 211219630 211222290\n",
      " 211264530 211264760 211278920 211280810 211292150 211333700 211385020\n",
      " 211393390 211551940 211727510 211776000 211779000 211822000 211848130\n",
      " 212004000 212075000 212376000 212499000 212571000 212593000 212613000\n",
      " 212660000 212733000 212940000 212979000 215004000 215114000 215241000\n",
      " 215764000 215909000 218044000 218170000 218298000 218412000 218601000\n",
      " 218715000 218795000 218816000 219000028 219000407 219000431 219000742\n",
      " 219000751 219000762 219000811 219001218 219001431 219002857 219003141\n",
      " 219007477 219016665 219017081 219018272 219018765 219019067 219019094\n",
      " 219019853 219019887 219020398 219022047 219022580 219026000 219026261\n",
      " 219027298 219027310 219027776 219028116 219028965 219029726 219029762\n",
      " 219036000 219045000 219076000 219081000 219115000 219142000 219147000\n",
      " 219166000 219230000 219236000 219281000 219296000 219355000 219358000\n",
      " 219384000 219407000 219419000 219437000 219455000 219460000 219551000\n",
      " 219558000 219560000 219596000 219612000 219705000 219945000 220018000\n",
      " 220223000 220479000 220504000 220514000 220560000 220609000 220634000\n",
      " 220644000 228079600 228397600 229270000 229289000 229344000 229536000\n",
      " 229573000 229805000 229929000 230204000 230618000 230623000 230632000\n",
      " 230643000 230684000 230981000 230987000 230994000 231860000 232005533\n",
      " 235006758 235028825 235050033 235060989 235081933 235094449 235095776\n",
      " 235103385 235108514 235108597 235108697 236165000 236481000 238250000\n",
      " 241372000 241689000 244024000 244036000 244059000 244090800 244130689\n",
      " 244150000 244170427 244234000 244279000 244557000 244562000 244645000\n",
      " 244730469 244750806 244770069 244780424 244850116 244859000 244860278\n",
      " 244870428 244915000 245088000 245147000 245184000 245257000 245258000\n",
      " 245306000 245451000 245455000 245732000 245809000 246010000 246140000\n",
      " 246257000 246483000 246530000 246553000 246571000 246594000 246613000\n",
      " 246668000 248148000 248738000 248886000 248971000 249689000 249773000\n",
      " 255768000 255801990 255802270 255805754 255805788 255805841 255805865\n",
      " 255805881 255805899 255805937 255805984 255805993 255806081 255806086\n",
      " 255806123 255806134 255806139 255806156 255806177 255806191 255806249\n",
      " 255806258 255806267 255806342 255806355 255806370 255806387 255806390\n",
      " 255806464 255806514 256174000 256341000 256632000 256767000 257032850\n",
      " 257071620 257071710 257084120 257084390 257090650 257182000 257273000\n",
      " 257409000 257535000 257555000 257653000 257698000 257870000 257895000\n",
      " 258020000 258648000 258715000 258849000 258858000 258879000 258953000\n",
      " 259001980 259034000 259222000 259360000 259372000 261036120 261037120\n",
      " 265002000 265042000 265177000 265410000 265573150 265625700 265761380\n",
      " 265798050 265866000 265874000 266220000 266239000 266262000 266266000\n",
      " 266331000 266343000 266416000 266433000 266436000 266475000 269039000\n",
      " 271002613 273210550 277408000 277523000 304010366 304533000 304667000\n",
      " 304832000 304853000 305024000 305178000 305305000 305369000 305371000\n",
      " 305550000 305623000 305639000 305729000 305857000 305967000 311000263\n",
      " 311000280 311000330 311000782 311041700 311046600 311857000 311938000\n",
      " 314179000 314206000 314217000 314220000 314222000 314303000 314377000\n",
      " 314396000 314398000 314415000 314455000 316011760 352986146 354977000\n",
      " 355254000 370084000 370587000 372837000 376532000 377085000 377739000\n",
      " 377764000 403512001 477105200 477105600 477166500 477174800 477537200\n",
      " 477728400 538002579 538002773 538002778 538003932 538005398 538006352\n",
      " 538006757 538006778 538007320 538007533 538008326 538009607 548994000\n",
      " 563073500 563468000 563486000 564398000 565842000 566579000 566598000\n",
      " 566725000 566948000 566957000 636012383 636012384 636012660 636012662\n",
      " 636013273 636015563 636015743 636015915 636016504 636017490 636017648\n",
      " 636017658 636017668 636017765 636018830 636019055 636020533 636093059\n",
      " 664444000] [  657  7752  2423  2159    54     8  2787  7127  8705  8647  5698     9\n",
      "  4055   913 14275  4253  6712   257  1641  6904  2698  1662  1514   173\n",
      "  7956  1863  2750    66   305   108  2549    15   565  3786   377   212\n",
      "  7873  8482    32    61   777    88  4265  3645  1691  5994    52   671\n",
      "    36  2857    54  4468  1446  5508  8092  4661  5101   836    13   467\n",
      "     3  5797    62  6072  9375  1112  8841  8250 10700  9052  7532   647\n",
      "  8644   677  7575  8680  7571  2052  4165 16341  2788   177  7418   761\n",
      "   610 11298  5011  5098   699  7061  8650  3245   647    87  5118   813\n",
      "  2589     8  3411   106  4808  3274    53   698   446   663  4134    13\n",
      "  6268  2356  5139  7886   720  4485  9538  4860  6461  2602   352   153\n",
      "  7685  6708   710 17829  3358  3643  6444  6901  2707   891   511  2371\n",
      "  8752  5696  1248   122     1  4064  5415  4682   200  1099  1611  1025\n",
      "  6315  3742  6619  3436    12  7837  6411  4288  3491  2269  8688   711\n",
      "    23    79  3083    29  7113  4091  1405   333   633  1175  8867   713\n",
      "  1277  1171    46  9646  3627    52  4604  2602   376  1792  2795   608\n",
      "  4642   705   719  7966  7888  3902  4126  4984  2339  3266   622  6542\n",
      "  4633   880  6035  3061  1939  6369  3930  1694  7558     2  7268  4904\n",
      "  5774  7876    23   317  2599  4296  4276  4440  3352   206  5415  6197\n",
      "   106   715   631  6660  8712  8111   465    43  2267  1964  2529  6273\n",
      "  3448  4244  1286  4084  5954  6700  2805    96  5772   790  2835  8015\n",
      "  2561  5507 13068  5716  4710  3735   963  6647     5  6750    90   698\n",
      "  5936   588    18  2500    34 11379     6  8380    29  6274  1753  8385\n",
      "   123  1539  8429   629  6959    71   640  4318  1176    47  5467  5841\n",
      "  5905  6740  2824    29  8211 10354  8983  5735  8021  7345   560   703\n",
      "  8853  3469  5596  7790  7297  8009  8356  8944   610  4155  4826  5828\n",
      "  7608  3147  2699  2202    96  1838  1969  6980  7858  6425  6244  2081\n",
      "  3813    93  7957  1708  2426  5203  6786    56   534 23066   683  5296\n",
      " 13637  5364  6724  8806  2407  2620  2168  3886   723   482  3876   719\n",
      "  5970  1075  3739  5432  2350   282   178 10201  1782   416  8754   924\n",
      "  3418  6763  7009  9490   693   230   130  7378  7751    22  4466 10262\n",
      " 15441  8690   338   337  2702  1205  3866  9235  8480  6655    65   160\n",
      "   634   211    30    13  8647  4294  9087  7980  1046  9073  7720  3730\n",
      "  2438  2228   162 12930   825   296  1867  4398  9512   796  5055  4968\n",
      "  3259  3034   618  8774]\n"
     ]
    }
   ],
   "source": [
    "# find number of batches\n",
    "batch_count = 0\n",
    "unique_vals, unique_count = np.unique(second_column, return_counts=True)\n",
    "print(unique_vals, unique_count) \n"
   ]
  },
  {
   "cell_type": "code",
   "execution_count": 1,
   "id": "33a7c1d1",
   "metadata": {},
   "outputs": [
    {
     "ename": "NameError",
     "evalue": "name 'unique_count' is not defined",
     "output_type": "error",
     "traceback": [
      "\u001b[0;31m---------------------------------------------------------------------------\u001b[0m",
      "\u001b[0;31mNameError\u001b[0m                                 Traceback (most recent call last)",
      "\u001b[0;32m<ipython-input-1-21d412466808>\u001b[0m in \u001b[0;36m<module>\u001b[0;34m\u001b[0m\n\u001b[0;32m----> 1\u001b[0;31m \u001b[0mcount\u001b[0m\u001b[0;34m=\u001b[0m\u001b[0msorted\u001b[0m\u001b[0;34m(\u001b[0m\u001b[0munique_count\u001b[0m\u001b[0;34m,\u001b[0m\u001b[0mreverse\u001b[0m\u001b[0;34m=\u001b[0m\u001b[0;32mTrue\u001b[0m\u001b[0;34m)\u001b[0m\u001b[0;34m\u001b[0m\u001b[0;34m\u001b[0m\u001b[0m\n\u001b[0m\u001b[1;32m      2\u001b[0m \u001b[0;34m\u001b[0m\u001b[0m\n\u001b[1;32m      3\u001b[0m \u001b[0mprint\u001b[0m\u001b[0;34m(\u001b[0m\u001b[0mcount\u001b[0m\u001b[0;34m)\u001b[0m\u001b[0;34m\u001b[0m\u001b[0;34m\u001b[0m\u001b[0m\n\u001b[1;32m      4\u001b[0m \u001b[0mmax_count\u001b[0m\u001b[0;34m=\u001b[0m\u001b[0mnp\u001b[0m\u001b[0;34m.\u001b[0m\u001b[0mamax\u001b[0m\u001b[0;34m(\u001b[0m\u001b[0munique_count\u001b[0m\u001b[0;34m)\u001b[0m\u001b[0;34m\u001b[0m\u001b[0;34m\u001b[0m\u001b[0m\n\u001b[1;32m      5\u001b[0m \u001b[0;34m\u001b[0m\u001b[0m\n",
      "\u001b[0;31mNameError\u001b[0m: name 'unique_count' is not defined"
     ]
    }
   ],
   "source": [
    "count=sorted(unique_count,reverse=True)  \n",
    "\n",
    "print(count)\n",
    "max_count=np.amax(unique_count)\n",
    "\n",
    "i = 0\n",
    "for it in unique_count:\n",
    "    if(it == 1277):\n",
    "        break;\n",
    "    i+=1\n"
   ]
  },
  {
   "cell_type": "code",
   "execution_count": 10,
   "id": "31aeba1c",
   "metadata": {},
   "outputs": [],
   "source": [
    "batch_count = 0\n",
    "for i in unique_count: \n",
    "    if i >= 5:\n",
    "        batch_count += (i)     "
   ]
  },
  {
   "cell_type": "code",
   "execution_count": 11,
   "id": "6b29b7d5",
   "metadata": {},
   "outputs": [
    {
     "name": "stdout",
     "output_type": "stream",
     "text": [
      "batch_count=1559141\n"
     ]
    }
   ],
   "source": [
    "print(\"batch_count=%d\"%(batch_count))"
   ]
  },
  {
   "cell_type": "code",
   "execution_count": 12,
   "id": "7352a0f4",
   "metadata": {},
   "outputs": [],
   "source": [
    "# create empty x,y train\n",
    "x_train = np.empty([batch_count, 5, 6])  \n",
    "y_train = np.empty([batch_count, 6])"
   ]
  },
  {
   "cell_type": "code",
   "execution_count": 13,
   "id": "390cf417",
   "metadata": {},
   "outputs": [
    {
     "name": "stdout",
     "output_type": "stream",
     "text": [
      "x_train= (1559141, 5, 6)\n",
      "====================\n",
      "y_train= (1559141, 6)\n"
     ]
    }
   ],
   "source": [
    "print(\"x_train=\",x_train.shape) \n",
    "print(\"====================\")\n",
    "print(\"y_train=\",y_train.shape)  "
   ]
  },
  {
   "cell_type": "code",
   "execution_count": 14,
   "id": "2dc4d039",
   "metadata": {},
   "outputs": [],
   "source": [
    "first_lat = []  \n",
    "first_long = [] \n",
    "k = 0"
   ]
  },
  {
   "cell_type": "code",
   "execution_count": 15,
   "id": "67162601",
   "metadata": {},
   "outputs": [],
   "source": [
    "# make data set into relative latitudes and longitudes  \n",
    "for i in range(len(unique_count)):\n",
    "    first_lat.append(df[k][3])\n",
    "    first_long.append(df[k][4])\n",
    "    k += unique_count[i]"
   ]
  },
  {
   "cell_type": "code",
   "execution_count": 16,
   "id": "c81e3875",
   "metadata": {},
   "outputs": [
    {
     "name": "stdout",
     "output_type": "stream",
     "text": [
      "400 400\n"
     ]
    }
   ],
   "source": [
    "print(len(first_lat),len(first_long))"
   ]
  },
  {
   "cell_type": "code",
   "execution_count": 17,
   "id": "49e68689",
   "metadata": {},
   "outputs": [
    {
     "name": "stdout",
     "output_type": "stream",
     "text": [
      "399\n"
     ]
    }
   ],
   "source": [
    "\n",
    "k = 0\n",
    "last_count = 0\n",
    "for i in range(len(df)):   \n",
    "    df[i][3] = df[i][3] - first_lat[k]\n",
    "    df[i][4] = df[i][4] - first_long[k]\n",
    "    if (i-last_count) == unique_count[k]:\n",
    "        last_count = i\n",
    "        k += 1\n",
    "print(k)    "
   ]
  },
  {
   "cell_type": "code",
   "execution_count": 19,
   "id": "62d8c60b",
   "metadata": {},
   "outputs": [
    {
     "name": "stdout",
     "output_type": "stream",
     "text": [
      "9.999999974752427e-07\n"
     ]
    }
   ],
   "source": [
    "print(df[1, 3])"
   ]
  },
  {
   "cell_type": "code",
   "execution_count": 54,
   "id": "94352d11",
   "metadata": {},
   "outputs": [],
   "source": [
    "np.savez('post_processing_data.npz', first_lat=first_lat, first_long=first_long, unique_count=unique_count)"
   ]
  },
  {
   "cell_type": "code",
   "execution_count": 55,
   "id": "f8405a08",
   "metadata": {},
   "outputs": [],
   "source": [
    "# # Passing the Lats and Longs to make them absolute in post-processing\n",
    "# def firsts():\n",
    "#     lats = first_lat\n",
    "#     longs = first_long\n",
    "#     unique = unique_count\n",
    "#     return [lats, longs, unique]"
   ]
  },
  {
   "cell_type": "code",
   "execution_count": 56,
   "id": "e30bb0c6",
   "metadata": {},
   "outputs": [],
   "source": [
    "# normalize dataset\n",
    "lat_min = -90  \n",
    "lat_max = 90\n",
    "long_min = -180 \n",
    "long_max = 180\n",
    "speed_min = 0\n",
    "speed_max = np.amax(df[:, [7]]) \n",
    "time_min = 0\n",
    "time_max = np.amax(df[:, [0]])  \n",
    "course_min = 0\n",
    "course_max = np.max(df[:, [8]])  \n"
   ]
  },
  {
   "cell_type": "code",
   "execution_count": 57,
   "id": "da1822ce",
   "metadata": {},
   "outputs": [
    {
     "name": "stdout",
     "output_type": "stream",
     "text": [
      "89.6 86398 359.9\n"
     ]
    }
   ],
   "source": [
    "print(speed_max,time_max,course_max)"
   ]
  },
  {
   "cell_type": "code",
   "execution_count": 58,
   "id": "597e36b8",
   "metadata": {},
   "outputs": [],
   "source": [
    "\n",
    "\n",
    "df[:, [3]] = df[:, [3]]       \n",
    "df[:, [4]] = df[:, [4]]    \n",
    "df[:, [0]] = df[:, [0]]  \n",
    "\n",
    "\n",
    "df[:, [7]] = (df[:, [7]] - speed_min) / (speed_max - speed_min)\n",
    "df[:, [8]] = (df[:, [8]] - course_min) / (course_max - course_min)\n",
    "\n"
   ]
  },
  {
   "cell_type": "code",
   "execution_count": 70,
   "id": "cad35e7e",
   "metadata": {},
   "outputs": [],
   "source": [
    "# fill batches\n",
    "i = 0\n",
    "for count, k in enumerate(second_column): \n",
    "#      print(\"count=%d,k=%d\"%(count,k)) # [2103 2103 2103 ... 664445000 664445000 664445000]\n",
    "     try:\n",
    "        if second_column[count + 5] == k: \n",
    "############################################################################\n",
    "            for t in range(5):\n",
    "                    x_train[i][t][0] = df[count][0]  \n",
    "                    x_train[i][t][1] = df[count][2] \n",
    "                    x_train[i][t][2] = df[count][3]  \n",
    "                    x_train[i][t][3] = df[count][4]  \n",
    "                    x_train[i][t][4] = df[count][7]  \n",
    "                    x_train[i][t][5] = df[count][8]  \n",
    "############################################################################\n",
    "            for t in range(5):\n",
    "                y_train[i*5+t][0]   = df[count + 5][0]\n",
    "                y_train[i*5+t][1]   = df[count + 5][2]\n",
    "                y_train[i*5+t][2]   = df[count + 5][3]\n",
    "                y_train[i*5+t][3]   = df[count + 5][4]\n",
    "                y_train[i*5+t][4]   = df[count + 5][7]\n",
    "                y_train[i*5+t][5]   = df[count + 5][8]\n",
    "############################################################################\n",
    "            i += 1\n"
   ]
  },
  {
   "cell_type": "code",
   "execution_count": 71,
   "id": "c6c149ec",
   "metadata": {},
   "outputs": [],
   "source": [
    "# take out name feature column, cut to size of i above\n",
    "x_train = x_train[0:i - 1, :, [0,2,3,4,5]] \n",
    "y_train = y_train[0:i - 1, [2, 3]]  "
   ]
  },
  {
   "cell_type": "code",
   "execution_count": 73,
   "id": "b59f0cc5",
   "metadata": {
    "scrolled": true
   },
   "outputs": [
    {
     "name": "stdout",
     "output_type": "stream",
     "text": [
      "[[ 1.70000000e+02 -5.54642920e+01 -1.22051970e+01  1.11607143e-03\n",
      "   1.52820228e-02]\n",
      " [ 1.70000000e+02 -5.54642920e+01 -1.22051970e+01  1.11607143e-03\n",
      "   1.52820228e-02]\n",
      " [ 1.70000000e+02 -5.54642920e+01 -1.22051970e+01  1.11607143e-03\n",
      "   1.52820228e-02]\n",
      " [ 1.70000000e+02 -5.54642920e+01 -1.22051970e+01  1.11607143e-03\n",
      "   1.52820228e-02]\n",
      " [ 1.70000000e+02 -5.54642920e+01 -1.22051970e+01  1.11607143e-03\n",
      "   1.52820228e-02]]\n"
     ]
    }
   ],
   "source": [
    "print(x_train[0])"
   ]
  },
  {
   "cell_type": "code",
   "execution_count": 74,
   "id": "1d0e4281",
   "metadata": {},
   "outputs": [
    {
     "name": "stdout",
     "output_type": "stream",
     "text": [
      "(311827, 5, 5) (311827, 2)\n"
     ]
    }
   ],
   "source": [
    "print(x_train.shape, y_train.shape)"
   ]
  },
  {
   "cell_type": "code",
   "execution_count": 75,
   "id": "05775750",
   "metadata": {},
   "outputs": [],
   "source": [
    "# splice data for training and testing\n",
    "train_length = int(i * 0.8)  \n",
    "y_test = y_train[train_length:, :]\n",
    "x_test = x_train[train_length:, :, :]\n",
    "\n",
    "y_train = y_train[:train_length + 1, :]\n",
    "x_train = x_train[:train_length + 1, :, :]"
   ]
  },
  {
   "cell_type": "code",
   "execution_count": 76,
   "id": "b2a32f75",
   "metadata": {},
   "outputs": [],
   "source": [
    "np.savez('train_test_data.npz', x_train=x_train, y_train=y_train, x_test=x_test, y_test=y_test)"
   ]
  },
  {
   "cell_type": "code",
   "execution_count": 2,
   "id": "7deb7e2c",
   "metadata": {},
   "outputs": [
    {
     "name": "stdout",
     "output_type": "stream",
     "text": [
      "----------------------------------------------------\n",
      "End\n",
      "----------------------------------------------------\n"
     ]
    }
   ],
   "source": [
    "print('----------------------------------------------------')\n",
    "print('End')\n",
    "print('----------------------------------------------------')"
   ]
  },
  {
   "cell_type": "code",
   "execution_count": null,
   "id": "3eb2f7a5",
   "metadata": {},
   "outputs": [],
   "source": []
  },
  {
   "cell_type": "code",
   "execution_count": null,
   "id": "7db7043c",
   "metadata": {},
   "outputs": [],
   "source": []
  }
 ],
 "metadata": {
  "kernelspec": {
   "display_name": "Python 3",
   "language": "python",
   "name": "python3"
  },
  "language_info": {
   "codemirror_mode": {
    "name": "ipython",
    "version": 3
   },
   "file_extension": ".py",
   "mimetype": "text/x-python",
   "name": "python",
   "nbconvert_exporter": "python",
   "pygments_lexer": "ipython3",
   "version": "3.6.13"
  }
 },
 "nbformat": 4,
 "nbformat_minor": 5
}
